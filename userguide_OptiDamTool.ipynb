{
 "cells": [
  {
   "cell_type": "markdown",
   "id": "3abf3b80-3927-40de-87dd-d12f185085d9",
   "metadata": {},
   "source": [
    "## <span style='background:rgb(0,255,255)' ><font color='black'>**Import OptiDamTool**</font></span>"
   ]
  },
  {
   "cell_type": "code",
   "execution_count": 2,
   "id": "1de9f779-762d-47c9-94bb-06c33a6f8395",
   "metadata": {
    "tags": []
   },
   "outputs": [],
   "source": [
    "import IPython\n",
    "import OptiDamTool\n",
    "import os\n",
    "\n",
    "# mutiple output visibility from a single cell\n",
    "IPython.InteractiveShell.ast_node_interactivity = 'all'"
   ]
  },
  {
   "cell_type": "markdown",
   "id": "a8f04c31-e12a-4dc8-92f8-f0996960f29a",
   "metadata": {},
   "source": [
    "## <span style='background:rgb(0,255,255)' ><font color='black'>**Classes**</font></span>"
   ]
  },
  {
   "cell_type": "code",
   "execution_count": 3,
   "id": "3317dc75-6f9b-4b3c-96b3-4506581076ed",
   "metadata": {
    "tags": []
   },
   "outputs": [],
   "source": [
    "watemsedem = OptiDamTool.WatemSedem()\n",
    "network = OptiDamTool.Network()"
   ]
  },
  {
   "cell_type": "markdown",
   "id": "17442ead-9c29-4271-a73c-0629b8b4dc86",
   "metadata": {},
   "source": [
    "## <span style='background:rgb(0,255,255)' ><font color='black'>**Method Documentation**</font></span>"
   ]
  },
  {
   "cell_type": "code",
   "execution_count": 4,
   "id": "095a5ae2-3915-40b3-b556-782f3580a460",
   "metadata": {
    "tags": []
   },
   "outputs": [],
   "source": [
    "# help(OptiDamTool)\n",
    "# help(watemsedem)\n",
    "# help(network)"
   ]
  },
  {
   "cell_type": "markdown",
   "id": "32e72095-975e-4977-b89a-75c3d222d5a8",
   "metadata": {},
   "source": [
    "## <span style='background:rgb(0,255,255)' ><font color='black'>**Test Data Directory**</font></span>"
   ]
  },
  {
   "cell_type": "code",
   "execution_count": 5,
   "id": "d9646c40-8466-4799-8597-d107243f386f",
   "metadata": {
    "tags": []
   },
   "outputs": [],
   "source": [
    "# download the 'https://github.com/debpal/OptiDamTool/tree/main/tests/data' folder and adjust this path\n",
    "data_folder = os.path.join(os.getcwd(), 'tests', 'data')"
   ]
  },
  {
   "cell_type": "markdown",
   "id": "c9a50e9b-b4ff-4823-8366-8f1915833c5e",
   "metadata": {},
   "source": [
    "## <span style='background:rgb(0,255,255)' ><font color='black'>**Mthods of WatemSedem Class**</font></span>"
   ]
  },
  {
   "cell_type": "markdown",
   "id": "bc1fb0a8-91f5-46b3-9730-9c36e68df7e4",
   "metadata": {},
   "source": [
    "### <span style='background:orange' ><font color='black'>**DEM to Stream Files**</font></span>"
   ]
  },
  {
   "cell_type": "code",
   "execution_count": 5,
   "id": "384ddffa-2ed4-4b61-b2b5-f3300da724c5",
   "metadata": {
    "tags": []
   },
   "outputs": [],
   "source": [
    "# # this function is under development\n",
    "\n",
    "# output = watemsedem.dem_to_stream(\n",
    "#     dem_file=\"dem.tif\",\n",
    "#     folder_path=\"folder\"\n",
    "# )\n",
    "\n",
    "# output"
   ]
  },
  {
   "cell_type": "markdown",
   "id": "81a65feb-cb84-4c9c-900c-be5cf35e6917",
   "metadata": {},
   "source": [
    "## <span style='background:rgb(0,255,255)' ><font color='black'>**Method of Network Class**</font></span>"
   ]
  },
  {
   "cell_type": "markdown",
   "id": "bd5ca9d9-7f61-41d2-8d67-390318731f63",
   "metadata": {},
   "source": [
    "### <span style='background:orange' ><font color='black'>**Adjancent Downstream and Upstream Dam Connectivity**</font></span>"
   ]
  },
  {
   "cell_type": "code",
   "execution_count": 6,
   "id": "703d19f9-0ca8-40e1-a14d-3594c38e2a0b",
   "metadata": {
    "tags": []
   },
   "outputs": [
    {
     "data": {
      "text/plain": [
       "{'downstream': {1: 17,\n",
       "  2: 17,\n",
       "  5: 17,\n",
       "  13: 17,\n",
       "  17: 21,\n",
       "  21: -1,\n",
       "  22: 27,\n",
       "  24: -1,\n",
       "  27: -1,\n",
       "  31: -1},\n",
       " 'upstream': {1: [],\n",
       "  2: [],\n",
       "  5: [],\n",
       "  13: [],\n",
       "  17: [1, 2, 5, 13],\n",
       "  21: [17],\n",
       "  22: [],\n",
       "  24: [],\n",
       "  27: [22],\n",
       "  31: []}}"
      ]
     },
     "execution_count": 6,
     "metadata": {},
     "output_type": "execute_result"
    }
   ],
   "source": [
    "output = network.connectivity_adjacent(\n",
    "    stream_file=os.path.join(data_folder, 'stream.shp'),\n",
    "    stream_col='flw_id',\n",
    "    dam_list=[21, 22, 5, 31, 17, 24, 27, 2, 13, 1]\n",
    ")\n",
    "\n",
    "output"
   ]
  }
 ],
 "metadata": {
  "kernelspec": {
   "display_name": "geoanalyze",
   "language": "python",
   "name": "geoanalyze"
  },
  "language_info": {
   "codemirror_mode": {
    "name": "ipython",
    "version": 3
   },
   "file_extension": ".py",
   "mimetype": "text/x-python",
   "name": "python",
   "nbconvert_exporter": "python",
   "pygments_lexer": "ipython3",
   "version": "3.12.7"
  }
 },
 "nbformat": 4,
 "nbformat_minor": 5
}
