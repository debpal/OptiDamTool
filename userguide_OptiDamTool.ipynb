{
 "cells": [
  {
   "cell_type": "markdown",
   "id": "3abf3b80-3927-40de-87dd-d12f185085d9",
   "metadata": {},
   "source": [
    "## <span style='background:rgb(0,255,255)' ><font color='black'>**Import OptiDamTool**</font></span>"
   ]
  },
  {
   "cell_type": "code",
   "execution_count": 1,
   "id": "1de9f779-762d-47c9-94bb-06c33a6f8395",
   "metadata": {
    "tags": []
   },
   "outputs": [],
   "source": [
    "import IPython\n",
    "import OptiDamTool\n",
    "import os\n",
    "\n",
    "# mutiple output visibility from a single cell\n",
    "IPython.InteractiveShell.ast_node_interactivity = 'all'"
   ]
  },
  {
   "cell_type": "markdown",
   "id": "a8f04c31-e12a-4dc8-92f8-f0996960f29a",
   "metadata": {},
   "source": [
    "## <span style='background:rgb(0,255,255)' ><font color='black'>**Classes**</font></span>"
   ]
  },
  {
   "cell_type": "code",
   "execution_count": 2,
   "id": "3317dc75-6f9b-4b3c-96b3-4506581076ed",
   "metadata": {
    "tags": []
   },
   "outputs": [],
   "source": [
    "watemsedem = OptiDamTool.WatemSedem()\n",
    "network = OptiDamTool.Network()"
   ]
  },
  {
   "cell_type": "markdown",
   "id": "17442ead-9c29-4271-a73c-0629b8b4dc86",
   "metadata": {},
   "source": [
    "## <span style='background:rgb(0,255,255)' ><font color='black'>**Method Documentation**</font></span>"
   ]
  },
  {
   "cell_type": "code",
   "execution_count": 3,
   "id": "095a5ae2-3915-40b3-b556-782f3580a460",
   "metadata": {
    "tags": []
   },
   "outputs": [],
   "source": [
    "# help(watemsedem)\n",
    "# help(network)"
   ]
  },
  {
   "cell_type": "markdown",
   "id": "32e72095-975e-4977-b89a-75c3d222d5a8",
   "metadata": {},
   "source": [
    "## <span style='background:rgb(0,255,255)' ><font color='black'>**Directory Path**</font></span>"
   ]
  },
  {
   "cell_type": "code",
   "execution_count": 4,
   "id": "d9646c40-8466-4799-8597-d107243f386f",
   "metadata": {
    "tags": []
   },
   "outputs": [],
   "source": [
    "# download the 'data' folder from 'https://github.com/debpal/OptiDamTool/tree/main/tests/data' folder and adjust this path for your computer system.\n",
    "data_folder = os.path.join(os.getcwd(), 'tests', 'data')\n",
    "\n",
    "# the output folder path needs to be adjusted according to the user's computer system\n",
    "output_folder = os.path.join(os.getcwd(), 'output_folder')"
   ]
  },
  {
   "cell_type": "markdown",
   "id": "c9a50e9b-b4ff-4823-8366-8f1915833c5e",
   "metadata": {},
   "source": [
    "## <span style='background:rgb(0,255,255)' ><font color='black'>**Methods of WatemSedem Class**</font></span>"
   ]
  },
  {
   "cell_type": "markdown",
   "id": "bc1fb0a8-91f5-46b3-9730-9c36e68df7e4",
   "metadata": {},
   "source": [
    "### <span style='background:orange' ><font color='black'>**DEM to Stream Files**</font></span>"
   ]
  },
  {
   "cell_type": "code",
   "execution_count": 5,
   "id": "384ddffa-2ed4-4b61-b2b5-f3300da724c5",
   "metadata": {
    "tags": []
   },
   "outputs": [
    {
     "name": "stdout",
     "output_type": "stream",
     "text": [
      "DEM reading time (seconds): 0.25\n",
      "Pit filling and flow direction calculation time (seconds): 14.26\n",
      "Slope calculation time (seconds): 2.56\n",
      "Aspect calculation time (seconds): 1.12\n",
      "Flow accumulation calculation time (seconds): 5.69\n",
      "Stream calculation time (seconds): 1.76\n",
      "Subbasin calculation time (seconds): 2.0\n",
      "Total time (seconds): 27.72\n",
      "\n",
      "Stream raster creation complete\n",
      "\n",
      "Stream routing raster creation complete\n",
      "\n"
     ]
    },
    {
     "data": {
      "text/plain": [
       "'All required files has been generated'"
      ]
     },
     "execution_count": 5,
     "metadata": {},
     "output_type": "execute_result"
    }
   ],
   "source": [
    "output = watemsedem.dem_to_stream(\n",
    "    dem_file=os.path.join(data_folder, 'dem.tif'),\n",
    "    flwacc_percent=2,\n",
    "    folder_path=output_folder\n",
    ")\n",
    "\n",
    "output"
   ]
  },
  {
   "cell_type": "markdown",
   "id": "d361ae3d-152e-496e-b155-ab004e3bc039",
   "metadata": {},
   "source": [
    "### <span style='background:orange' ><font color='black'>**Model Region Extension**</font></span>"
   ]
  },
  {
   "cell_type": "code",
   "execution_count": 6,
   "id": "ff5955a5-440a-4213-867f-b2a7a651abca",
   "metadata": {
    "tags": []
   },
   "outputs": [
    {
     "data": {
      "text/plain": [
       "{'driver': 'GTiff', 'dtype': 'int16', 'nodata': -9999.0, 'width': 3517, 'height': 3884, 'count': 1, 'crs': CRS.from_wkt('PROJCS[\"WGS 84 / UTM zone 38N\",GEOGCS[\"WGS 84\",DATUM[\"WGS_1984\",SPHEROID[\"WGS 84\",6378137,298.257223563]],PRIMEM[\"Greenwich\",0],UNIT[\"degree\",0.0174532925199433,AUTHORITY[\"EPSG\",\"9122\"]],AUTHORITY[\"EPSG\",\"4326\"]],PROJECTION[\"Transverse_Mercator\"],PARAMETER[\"latitude_of_origin\",0],PARAMETER[\"central_meridian\",45],PARAMETER[\"scale_factor\",0.9996],PARAMETER[\"false_easting\",500000],PARAMETER[\"false_northing\",0],UNIT[\"metre\",1],AXIS[\"Easting\",EAST],AXIS[\"Northing\",NORTH],AUTHORITY[\"EPSG\",\"32638\"]]'), 'transform': Affine(30.0, 0.0, 232867.61403,\n",
       "       0.0, -30.0, 2000151.42384), 'blockxsize': 256, 'blockysize': 256, 'tiled': True, 'interleave': 'band'}"
      ]
     },
     "execution_count": 6,
     "metadata": {},
     "output_type": "execute_result"
    }
   ],
   "source": [
    "output = watemsedem.extend_model_region(\n",
    "    region_file=os.path.join(data_folder, 'dem.tif'),\n",
    "    buffer_distance=1500,\n",
    "    resolution=30,\n",
    "    folder_path=output_folder\n",
    ")\n",
    "\n",
    "output"
   ]
  },
  {
   "cell_type": "markdown",
   "id": "6612982a-0aee-4b90-942f-07d5a7da0af9",
   "metadata": {},
   "source": [
    "### <span style='background:orange' ><font color='black'>**Raster Extension and NoData Replacement**</font></span>"
   ]
  },
  {
   "cell_type": "code",
   "execution_count": 7,
   "id": "757741cb-9424-4791-aae2-20107f17c3f7",
   "metadata": {
    "tags": []
   },
   "outputs": [
    {
     "data": {
      "text/plain": [
       "{'driver': 'GTiff', 'dtype': 'int16', 'nodata': -9999.0, 'width': 3517, 'height': 3884, 'count': 1, 'crs': CRS.from_wkt('PROJCS[\"WGS 84 / UTM zone 38N\",GEOGCS[\"WGS 84\",DATUM[\"WGS_1984\",SPHEROID[\"WGS 84\",6378137,298.257223563,AUTHORITY[\"EPSG\",\"7030\"]],AUTHORITY[\"EPSG\",\"6326\"]],PRIMEM[\"Greenwich\",0,AUTHORITY[\"EPSG\",\"8901\"]],UNIT[\"degree\",0.0174532925199433,AUTHORITY[\"EPSG\",\"9122\"]],AUTHORITY[\"EPSG\",\"4326\"]],PROJECTION[\"Transverse_Mercator\"],PARAMETER[\"latitude_of_origin\",0],PARAMETER[\"central_meridian\",45],PARAMETER[\"scale_factor\",0.9996],PARAMETER[\"false_easting\",500000],PARAMETER[\"false_northing\",0],UNIT[\"metre\",1,AUTHORITY[\"EPSG\",\"9001\"]],AXIS[\"Easting\",EAST],AXIS[\"Northing\",NORTH],AUTHORITY[\"EPSG\",\"32638\"]]'), 'transform': Affine(30.0, 0.0, 232867.61403,\n",
       "       0.0, -30.0, 2000151.42384), 'blockxsize': 256, 'blockysize': 256, 'tiled': True, 'interleave': 'band'}"
      ]
     },
     "execution_count": 7,
     "metadata": {},
     "output_type": "execute_result"
    }
   ],
   "source": [
    "output = watemsedem.extend_raster_nodata_free(\n",
    "    input_file=os.path.join(output_folder, 'stream_lines.tif'),\n",
    "    fill_value=0,\n",
    "    region_file=os.path.join(output_folder, 'region_buffer.tif'),\n",
    "    output_file=os.path.join(output_folder, 'stream_buffer.tif')\n",
    ")\n",
    "\n",
    "output"
   ]
  },
  {
   "cell_type": "markdown",
   "id": "b8b5e94f-b621-438b-affc-68c7c1499452",
   "metadata": {},
   "source": [
    "### <span style='background:orange' ><font color='black'>**Effective Upstream Drainage Polygons of Dams**</font></span>"
   ]
  },
  {
   "cell_type": "code",
   "execution_count": 8,
   "id": "c4c83668-03b9-497d-b00d-0bdf96c54ca4",
   "metadata": {
    "tags": []
   },
   "outputs": [
    {
     "data": {
      "text/html": [
       "<div>\n",
       "<style scoped>\n",
       "    .dataframe tbody tr th:only-of-type {\n",
       "        vertical-align: middle;\n",
       "    }\n",
       "\n",
       "    .dataframe tbody tr th {\n",
       "        vertical-align: top;\n",
       "    }\n",
       "\n",
       "    .dataframe thead th {\n",
       "        text-align: right;\n",
       "    }\n",
       "</style>\n",
       "<table border=\"1\" class=\"dataframe\">\n",
       "  <thead>\n",
       "    <tr style=\"text-align: right;\">\n",
       "      <th></th>\n",
       "      <th>geometry</th>\n",
       "      <th>ws_id</th>\n",
       "      <th>area_m2</th>\n",
       "    </tr>\n",
       "  </thead>\n",
       "  <tbody>\n",
       "    <tr>\n",
       "      <th>0</th>\n",
       "      <td>POLYGON ((317557.614 1958751.424, 317557.614 1...</td>\n",
       "      <td>1.0</td>\n",
       "      <td>4.396977e+08</td>\n",
       "    </tr>\n",
       "    <tr>\n",
       "      <th>1</th>\n",
       "      <td>POLYGON ((301357.614 1936071.424, 301357.614 1...</td>\n",
       "      <td>2.0</td>\n",
       "      <td>2.383110e+08</td>\n",
       "    </tr>\n",
       "    <tr>\n",
       "      <th>2</th>\n",
       "      <td>POLYGON ((321787.614 1965771.424, 321787.614 1...</td>\n",
       "      <td>5.0</td>\n",
       "      <td>2.106369e+08</td>\n",
       "    </tr>\n",
       "    <tr>\n",
       "      <th>3</th>\n",
       "      <td>POLYGON ((288247.614 1948611.424, 288247.614 1...</td>\n",
       "      <td>13.0</td>\n",
       "      <td>1.602387e+08</td>\n",
       "    </tr>\n",
       "    <tr>\n",
       "      <th>4</th>\n",
       "      <td>POLYGON ((275587.614 1998651.424, 275587.614 1...</td>\n",
       "      <td>17.0</td>\n",
       "      <td>2.978593e+09</td>\n",
       "    </tr>\n",
       "    <tr>\n",
       "      <th>5</th>\n",
       "      <td>POLYGON ((262237.614 1992201.424, 262237.614 1...</td>\n",
       "      <td>21.0</td>\n",
       "      <td>9.231408e+08</td>\n",
       "    </tr>\n",
       "    <tr>\n",
       "      <th>6</th>\n",
       "      <td>POLYGON ((283117.614 1935951.424, 283117.614 1...</td>\n",
       "      <td>22.0</td>\n",
       "      <td>3.243861e+08</td>\n",
       "    </tr>\n",
       "    <tr>\n",
       "      <th>7</th>\n",
       "      <td>POLYGON ((275677.614 1942971.424, 275677.614 1...</td>\n",
       "      <td>24.0</td>\n",
       "      <td>2.328597e+08</td>\n",
       "    </tr>\n",
       "    <tr>\n",
       "      <th>8</th>\n",
       "      <td>POLYGON ((282427.614 1936071.424, 282427.614 1...</td>\n",
       "      <td>27.0</td>\n",
       "      <td>4.591161e+08</td>\n",
       "    </tr>\n",
       "    <tr>\n",
       "      <th>9</th>\n",
       "      <td>POLYGON ((270217.614 1921941.424, 270217.614 1...</td>\n",
       "      <td>31.0</td>\n",
       "      <td>1.755585e+08</td>\n",
       "    </tr>\n",
       "  </tbody>\n",
       "</table>\n",
       "</div>"
      ],
      "text/plain": [
       "                                            geometry  ws_id       area_m2\n",
       "0  POLYGON ((317557.614 1958751.424, 317557.614 1...    1.0  4.396977e+08\n",
       "1  POLYGON ((301357.614 1936071.424, 301357.614 1...    2.0  2.383110e+08\n",
       "2  POLYGON ((321787.614 1965771.424, 321787.614 1...    5.0  2.106369e+08\n",
       "3  POLYGON ((288247.614 1948611.424, 288247.614 1...   13.0  1.602387e+08\n",
       "4  POLYGON ((275587.614 1998651.424, 275587.614 1...   17.0  2.978593e+09\n",
       "5  POLYGON ((262237.614 1992201.424, 262237.614 1...   21.0  9.231408e+08\n",
       "6  POLYGON ((283117.614 1935951.424, 283117.614 1...   22.0  3.243861e+08\n",
       "7  POLYGON ((275677.614 1942971.424, 275677.614 1...   24.0  2.328597e+08\n",
       "8  POLYGON ((282427.614 1936071.424, 282427.614 1...   27.0  4.591161e+08\n",
       "9  POLYGON ((270217.614 1921941.424, 270217.614 1...   31.0  1.755585e+08"
      ]
     },
     "execution_count": 8,
     "metadata": {},
     "output_type": "execute_result"
    }
   ],
   "source": [
    "output = watemsedem.dam_effective_drainage_polygon(\n",
    "    flwdir_file=os.path.join(data_folder, 'flwdir.tif'),\n",
    "    location_file=os.path.join(data_folder, 'subbasin_drainage_points.shp'),\n",
    "    location_col='ws_id',\n",
    "    dam_list=[21, 22, 5, 31, 17, 24, 27, 2, 13, 1],\n",
    "    folder_path=output_folder\n",
    ")\n",
    "\n",
    "output"
   ]
  },
  {
   "cell_type": "markdown",
   "id": "81a65feb-cb84-4c9c-900c-be5cf35e6917",
   "metadata": {},
   "source": [
    "## <span style='background:rgb(0,255,255)' ><font color='black'>**Method of Network Class**</font></span>"
   ]
  },
  {
   "cell_type": "markdown",
   "id": "bd5ca9d9-7f61-41d2-8d67-390318731f63",
   "metadata": {},
   "source": [
    "### <span style='background:orange' ><font color='black'>**Adjancent Downstream Dam Connectivity**</font></span>"
   ]
  },
  {
   "cell_type": "code",
   "execution_count": 9,
   "id": "703d19f9-0ca8-40e1-a14d-3594c38e2a0b",
   "metadata": {
    "tags": []
   },
   "outputs": [
    {
     "data": {
      "text/plain": [
       "{1: 17, 2: 17, 5: 17, 13: 17, 17: 21, 21: -1, 22: 27, 24: -1, 27: -1, 31: -1}"
      ]
     },
     "execution_count": 9,
     "metadata": {},
     "output_type": "execute_result"
    }
   ],
   "source": [
    "output = network.connectivity_adjacent_downstream(\n",
    "    stream_file=os.path.join(data_folder, 'stream.shp'),\n",
    "    stream_col='ws_id',\n",
    "    dam_list=[21, 22, 5, 31, 17, 24, 27, 2, 13, 1]\n",
    ")\n",
    "\n",
    "output"
   ]
  },
  {
   "cell_type": "markdown",
   "id": "3de32881-00bb-4cc6-b3e6-9a21a159ea59",
   "metadata": {},
   "source": [
    "### <span style='background:orange' ><font color='black'>**Adjancent Upstream Dam Connectivity**</font></span>"
   ]
  },
  {
   "cell_type": "code",
   "execution_count": 10,
   "id": "9a2234ee-a1b9-44e0-a4c1-12ceb36e038e",
   "metadata": {
    "tags": []
   },
   "outputs": [
    {
     "data": {
      "text/plain": [
       "{1: [],\n",
       " 2: [],\n",
       " 5: [],\n",
       " 13: [],\n",
       " 17: [1, 2, 5, 13],\n",
       " 21: [17],\n",
       " 22: [],\n",
       " 24: [],\n",
       " 27: [22],\n",
       " 31: []}"
      ]
     },
     "execution_count": 10,
     "metadata": {},
     "output_type": "execute_result"
    }
   ],
   "source": [
    "output = network.connectivity_adjacent_upstream(\n",
    "    stream_file=os.path.join(data_folder, 'stream.shp'),\n",
    "    stream_col='ws_id',\n",
    "    dam_list=[21, 22, 5, 31, 17, 24, 27, 2, 13, 1]\n",
    ")\n",
    "\n",
    "output"
   ]
  },
  {
   "cell_type": "markdown",
   "id": "46a8d2ad-b68a-40b8-be34-6004186d83e4",
   "metadata": {},
   "source": [
    "### <span style='background:orange' ><font color='black'>**Effective Upstream Drainage Area of Dams**</font></span>"
   ]
  },
  {
   "cell_type": "code",
   "execution_count": 11,
   "id": "5814ce41-df6e-4b2d-a1d9-d98e51f71c02",
   "metadata": {
    "tags": []
   },
   "outputs": [
    {
     "data": {
      "text/plain": [
       "{1: 439697700.0,\n",
       " 2: 238311000.0,\n",
       " 5: 210636900.0,\n",
       " 13: 160238700.0,\n",
       " 17: 2978593200.0,\n",
       " 21: 923140800.0,\n",
       " 22: 324386100.0,\n",
       " 24: 232859700.0,\n",
       " 27: 459116100.0,\n",
       " 31: 175558500.0}"
      ]
     },
     "execution_count": 11,
     "metadata": {},
     "output_type": "execute_result"
    }
   ],
   "source": [
    "output = network.effective_drainage_area(\n",
    "    stream_file=os.path.join(data_folder, 'stream.shp'),\n",
    "    stream_col='ws_id',\n",
    "    info_file=os.path.join(data_folder, 'stream_information.txt'),\n",
    "    dam_list=[21, 22, 5, 31, 17, 24, 27, 2, 13, 1]\n",
    ")\n",
    "\n",
    "output"
   ]
  }
 ],
 "metadata": {
  "kernelspec": {
   "display_name": "geoanalyze",
   "language": "python",
   "name": "geoanalyze"
  },
  "language_info": {
   "codemirror_mode": {
    "name": "ipython",
    "version": 3
   },
   "file_extension": ".py",
   "mimetype": "text/x-python",
   "name": "python",
   "nbconvert_exporter": "python",
   "pygments_lexer": "ipython3",
   "version": "3.13.3"
  }
 },
 "nbformat": 4,
 "nbformat_minor": 5
}
